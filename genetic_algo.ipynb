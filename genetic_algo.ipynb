{
 "cells": [
  {
   "cell_type": "code",
   "execution_count": 2,
   "metadata": {},
   "outputs": [],
   "source": [
    "import random\n",
    "import numpy as np"
   ]
  },
  {
   "cell_type": "code",
   "execution_count": 3,
   "metadata": {},
   "outputs": [
    {
     "data": {
      "text/plain": [
       "[[1, 1, 0, 1, 1, 0, 0, 0, 1, 1],\n",
       " [0, 1, 0, 1, 0, 0, 1, 1, 0, 0],\n",
       " [1, 1, 1, 1, 1, 0, 1, 1, 1, 1],\n",
       " [1, 0, 0, 1, 1, 0, 0, 0, 0, 0],\n",
       " [1, 0, 1, 0, 0, 0, 0, 0, 0, 1],\n",
       " [1, 0, 0, 0, 0, 0, 0, 0, 1, 1],\n",
       " [0, 0, 0, 1, 1, 0, 1, 0, 1, 0],\n",
       " [0, 0, 1, 0, 1, 0, 1, 1, 0, 0],\n",
       " [1, 0, 0, 1, 1, 1, 1, 0, 0, 0],\n",
       " [0, 0, 1, 0, 0, 0, 1, 0, 1, 1]]"
      ]
     },
     "execution_count": 3,
     "metadata": {},
     "output_type": "execute_result"
    }
   ],
   "source": [
    "# make cromosome and population\n",
    "\n",
    "chromosome=[]\n",
    "population=[]\n",
    "for i in range (0,10):\n",
    "    chromosome=[]\n",
    "    for j in range(0,10):\n",
    "        chromosome.append(random.randint(0,1))\n",
    "    population.append(chromosome)\n",
    "population"
   ]
  },
  {
   "cell_type": "code",
   "execution_count": 4,
   "metadata": {
    "scrolled": true
   },
   "outputs": [],
   "source": [
    "# population= np.random.randint(2,size=(10,10))\n",
    "# population"
   ]
  },
  {
   "cell_type": "code",
   "execution_count": 5,
   "metadata": {},
   "outputs": [
    {
     "data": {
      "text/plain": [
       "[[1, 1, 1, 1, 1, 0, 0, 0, 0, 0],\n",
       " [0, 0, 0, 0, 0, 1, 1, 1, 1, 1],\n",
       " [1, 1, 1, 1, 1, 0, 0, 0, 0, 0],\n",
       " [0, 0, 0, 0, 0, 1, 1, 1, 1, 1],\n",
       " [1, 1, 1, 1, 1, 0, 0, 0, 0, 0],\n",
       " [0, 0, 0, 0, 0, 1, 1, 1, 1, 1],\n",
       " [1, 1, 1, 1, 1, 0, 0, 0, 0, 0],\n",
       " [0, 0, 0, 0, 0, 1, 1, 1, 1, 1],\n",
       " [1, 1, 1, 1, 1, 0, 0, 0, 0, 0],\n",
       " [0, 0, 0, 0, 0, 1, 1, 1, 1, 1]]"
      ]
     },
     "execution_count": 5,
     "metadata": {},
     "output_type": "execute_result"
    }
   ],
   "source": [
    "#test population\n",
    "test_pop=[]\n",
    "\n",
    "for i in range (10):\n",
    "    el=[]\n",
    "    for j in range(10):\n",
    "       if j<5: el.append(1)\n",
    "       else: el.append(0) \n",
    "    if i%2!=0:\n",
    "        el.reverse()\n",
    "    test_pop.append(el)\n",
    "test_pop"
   ]
  },
  {
   "cell_type": "markdown",
   "metadata": {},
   "source": [
    "###  Uniform Crossover\n"
   ]
  },
  {
   "cell_type": "code",
   "execution_count": 6,
   "metadata": {},
   "outputs": [],
   "source": [
    "def crossover_pop(ip_population,pos=0):\n",
    "    \"\"\"Creating a new population after perform crossover among the pairs of chromosomes\"\"\"\n",
    "    new_population=[]\n",
    "    for i in range(0,10,2):\n",
    "        new_population.extend(crossover(ip_population[i],ip_population[i+1],pos))\n",
    "    return new_population\n",
    "\n",
    "def crossover(l1,l2,pos):\n",
    "    \"\"\"Take to chromosomes as input, perform crossover operation and then produce two new chromosomes\"\"\"\n",
    "    assert pos>=0, \"Invalid Position\"\n",
    "    new_chromosome1=[]\n",
    "    new_chromosome2=[]\n",
    "    if pos == 0:\n",
    "        pos=len(l1)//2\n",
    "    new_chromosome1=l1[:pos]+l2[pos:]\n",
    "    new_chromosome2=l2[:pos]+l1[pos:]\n",
    "    new_chromosome1,new_chromosome2 = mutation(new_chromosome1, new_chromosome2)\n",
    "    return new_chromosome1,new_chromosome2\n"
   ]
  },
  {
   "cell_type": "code",
   "execution_count": 7,
   "metadata": {},
   "outputs": [
    {
     "data": {
      "text/plain": [
       "([1, 1, 1, 1, 1, 0, 0, 0, 0, 0], [0, 0, 0, 0, 0, 1, 1, 1, 1, 1])"
      ]
     },
     "execution_count": 7,
     "metadata": {},
     "output_type": "execute_result"
    }
   ],
   "source": [
    "l1=np.ones(10,dtype=np.int8)\n",
    "l1= list(l1)\n",
    "l2=np.zeros(10,dtype=np.int8)\n",
    "l2= list(l2)\n",
    "crossover(l1,l2,0)\n"
   ]
  },
  {
   "cell_type": "markdown",
   "metadata": {},
   "source": [
    "### Mutation"
   ]
  },
  {
   "cell_type": "code",
   "execution_count": 8,
   "metadata": {},
   "outputs": [],
   "source": [
    "def mutation(c1,c2):\n",
    "    yn=random.random()\n",
    "    if yn>0.5:\n",
    "        s=random.random()\n",
    "        pos=random.randrange(0,10)\n",
    "        if s<0.5:\n",
    "            c1[pos]=1-c1[pos]\n",
    "        else:\n",
    "            c2[pos]=1-c2[pos]\n",
    "    return c1,c2\n",
    "    "
   ]
  },
  {
   "cell_type": "code",
   "execution_count": 9,
   "metadata": {},
   "outputs": [
    {
     "data": {
      "text/plain": [
       "[[1, 1, 1, 1, 1, 1, 1, 1, 1, 1],\n",
       " [0, 0, 0, 0, 0, 0, 0, 0, 0, 0],\n",
       " [1, 1, 1, 1, 1, 1, 1, 1, 1, 1],\n",
       " [0, 0, 0, 0, 0, 0, 0, 0, 0, 0],\n",
       " [1, 0, 1, 1, 1, 1, 1, 1, 1, 1],\n",
       " [0, 0, 0, 0, 0, 0, 0, 0, 0, 0],\n",
       " [1, 1, 1, 1, 1, 1, 1, 1, 1, 1],\n",
       " [0, 0, 0, 0, 0, 0, 0, 0, 0, 0],\n",
       " [1, 1, 1, 1, 1, 1, 1, 1, 1, 1],\n",
       " [1, 0, 0, 0, 0, 0, 0, 0, 0, 0]]"
      ]
     },
     "execution_count": 9,
     "metadata": {},
     "output_type": "execute_result"
    }
   ],
   "source": [
    "new_population= crossover_pop(test_pop)\n",
    "new_population"
   ]
  },
  {
   "cell_type": "code",
   "execution_count": null,
   "metadata": {},
   "outputs": [],
   "source": []
  },
  {
   "cell_type": "code",
   "execution_count": null,
   "metadata": {},
   "outputs": [],
   "source": []
  },
  {
   "cell_type": "code",
   "execution_count": null,
   "metadata": {},
   "outputs": [],
   "source": []
  }
 ],
 "metadata": {
  "kernelspec": {
   "display_name": "Python 3 (ipykernel)",
   "language": "python",
   "name": "python3"
  },
  "language_info": {
   "codemirror_mode": {
    "name": "ipython",
    "version": 3
   },
   "file_extension": ".py",
   "mimetype": "text/x-python",
   "name": "python",
   "nbconvert_exporter": "python",
   "pygments_lexer": "ipython3",
   "version": "3.11.2"
  }
 },
 "nbformat": 4,
 "nbformat_minor": 4
}
