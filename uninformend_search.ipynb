{
 "cells": [
  {
   "cell_type": "markdown",
   "id": "1aea5438-35a5-4839-9f93-8f852a0b5b88",
   "metadata": {},
   "source": [
    "*Bredth First Search*"
   ]
  },
  {
   "cell_type": "code",
   "execution_count": 1,
   "id": "cec9b005-daaa-4bc2-a758-8d04be54735a",
   "metadata": {},
   "outputs": [],
   "source": [
    "from queue import Queue\n",
    "adj_list={\n",
    "    'A':['B','D'],\n",
    "    'B':['A','C'],\n",
    "    'C':['B'],\n",
    "    'D':['A','E','F'],\n",
    "    'E':['D','F','G'],\n",
    "    'F':['D','E','H'],\n",
    "    'G':['E','H'],\n",
    "    'H':['G','F'],\n",
    "}"
   ]
  },
  {
   "cell_type": "code",
   "execution_count": 2,
   "id": "a37c99ba-fd27-47b3-8926-ca1f631709a1",
   "metadata": {},
   "outputs": [
    {
     "name": "stdout",
     "output_type": "stream",
     "text": [
      "['A', 'B', 'D', 'C', 'E', 'F', 'G', 'H']\n"
     ]
    }
   ],
   "source": [
    "visited={}\n",
    "level={}\n",
    "parent={}\n",
    "bfs_output=[]\n",
    "queue=Queue()\n",
    "\n",
    "for node in adj_list.keys():\n",
    "    visited[node]=False\n",
    "    parent[node]=None\n",
    "    level[node]=-1\n",
    "\n",
    "s='A'\n",
    "visited[s]=True\n",
    "level[s]=0\n",
    "queue.put(s)\n",
    "\n",
    "while not queue.empty():\n",
    "    u= queue.get()\n",
    "    bfs_output.append(u)\n",
    "\n",
    "    for v in adj_list[u]:\n",
    "        if not visited[v]:\n",
    "            visited[v]=True\n",
    "            parent[v]=u\n",
    "            level[v]=level[u]+1\n",
    "            queue.put(v)\n",
    "print(bfs_output)\n"
   ]
  },
  {
   "cell_type": "code",
   "execution_count": null,
   "id": "a9c1c951-021a-41df-99ab-def76653dfc9",
   "metadata": {},
   "outputs": [],
   "source": []
  }
 ],
 "metadata": {
  "kernelspec": {
   "display_name": "Python 3 (ipykernel)",
   "language": "python",
   "name": "python3"
  },
  "language_info": {
   "codemirror_mode": {
    "name": "ipython",
    "version": 3
   },
   "file_extension": ".py",
   "mimetype": "text/x-python",
   "name": "python",
   "nbconvert_exporter": "python",
   "pygments_lexer": "ipython3",
   "version": "3.11.2"
  }
 },
 "nbformat": 4,
 "nbformat_minor": 5
}
