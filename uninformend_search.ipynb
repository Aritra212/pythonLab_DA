{
 "cells": [
  {
   "cell_type": "markdown",
   "id": "1aea5438-35a5-4839-9f93-8f852a0b5b88",
   "metadata": {},
   "source": [
    "### *Bredth First Search*"
   ]
  },
  {
   "cell_type": "code",
   "execution_count": 8,
   "id": "cec9b005-daaa-4bc2-a758-8d04be54735a",
   "metadata": {},
   "outputs": [],
   "source": [
    "from queue import Queue\n",
    "adj_list={\n",
    "    'A':['B','D'],\n",
    "    'B':['A','C'],\n",
    "    'C':['B'],\n",
    "    'D':['A','E','F'],\n",
    "    'E':['D','F','G'],\n",
    "    'F':['D','E','H'],\n",
    "    'G':['E','H'],\n",
    "    'H':['G','F'],\n",
    "}"
   ]
  },
  {
   "cell_type": "code",
   "execution_count": 14,
   "id": "a37c99ba-fd27-47b3-8926-ca1f631709a1",
   "metadata": {},
   "outputs": [],
   "source": [
    "def bfs(adj_list):\n",
    "    visited={}\n",
    "    bfs_output=[]\n",
    "    queue=Queue()\n",
    "    \n",
    "    for node in adj_list.keys():\n",
    "        visited[node]=False\n",
    "    \n",
    "    s='A'\n",
    "    visited[s]=True\n",
    "    queue.put(s)\n",
    "    \n",
    "    while not queue.empty():\n",
    "        u= queue.get()\n",
    "        bfs_output.append(u)\n",
    "    \n",
    "        for v in adj_list[u]:\n",
    "            if not visited[v]:\n",
    "                visited[v]=True\n",
    "                queue.put(v)\n",
    "    print(bfs_output)"
   ]
  },
  {
   "cell_type": "code",
   "execution_count": 15,
   "id": "c447be9c-aa5b-4bc5-a1e2-e763634d38a7",
   "metadata": {},
   "outputs": [
    {
     "name": "stdout",
     "output_type": "stream",
     "text": [
      "['A', 'B', 'D', 'C', 'E', 'F', 'G', 'H']\n"
     ]
    }
   ],
   "source": [
    "adj_list={\n",
    "    'A':['B','D'],\n",
    "    'B':['A','C'],\n",
    "    'C':['B'],\n",
    "    'D':['A','E','F'],\n",
    "    'E':['D','F','G'],\n",
    "    'F':['D','E','H'],\n",
    "    'G':['E','H'],\n",
    "    'H':['G','F'],\n",
    "}\n",
    "bfs(adj_list)"
   ]
  },
  {
   "cell_type": "markdown",
   "id": "d38a7732-7220-4a11-b0ad-343a4ef0102e",
   "metadata": {},
   "source": [
    "### Depth First Search"
   ]
  },
  {
   "cell_type": "markdown",
   "id": "e6fa8460-d0aa-4799-8657-7dfe12e2d25c",
   "metadata": {},
   "source": [
    "##### Stack Operations"
   ]
  },
  {
   "cell_type": "code",
   "execution_count": 3,
   "id": "d5493791-fdd6-4635-8afb-0157a89b9e5e",
   "metadata": {},
   "outputs": [],
   "source": [
    "def push(arr,item):\n",
    "    arr.append(item)\n",
    "\n",
    "def pop(arr):\n",
    "    tmp= arr.pop()\n",
    "    return tmp"
   ]
  },
  {
   "cell_type": "markdown",
   "id": "07015463-0abd-4184-aaa4-625b708c14a7",
   "metadata": {},
   "source": [
    "##### DFS function"
   ]
  },
  {
   "cell_type": "code",
   "execution_count": 5,
   "id": "1d6409ba-c506-42fa-9aee-754e0e37cd30",
   "metadata": {},
   "outputs": [],
   "source": [
    "def dfs(adj_list):\n",
    "    \n",
    "    visited={}\n",
    "    dfs_output=[]\n",
    "    stack=[]\n",
    "\n",
    "    for node in adj_list.keys():\n",
    "        visited[node]=False\n",
    "\n",
    "    s='A'\n",
    "    visited[s]=True\n",
    "    push(stack,s)\n",
    "    dfs_output.append(s)\n",
    "\n",
    "    while not len(stack)==0:\n",
    "        u=stack[-1]\n",
    "        if visited[u]==False:\n",
    "            dfs_output.append(u)\n",
    "            visited[v]=True\n",
    "        flag=0\n",
    "        for v in adj_list[u]:\n",
    "            if not visited[v]:\n",
    "                push(stack,v)\n",
    "                flag=1\n",
    "                break\n",
    "\n",
    "        if flag==0:\n",
    "            pop(stack)\n",
    "    print(dfs_output)"
   ]
  },
  {
   "cell_type": "code",
   "execution_count": 6,
   "id": "1b9add17-21d2-40ee-b4fe-e9fe21690c5c",
   "metadata": {},
   "outputs": [
    {
     "name": "stdout",
     "output_type": "stream",
     "text": [
      "['A', 'B', 'C', 'D', 'E', 'F', 'H', 'G']\n"
     ]
    }
   ],
   "source": [
    "adj_list={\n",
    "    'A':['B','D'],\n",
    "    'B':['A','C'],\n",
    "    'C':['B'],\n",
    "    'D':['A','E','F'],\n",
    "    'E':['D','F','G'],\n",
    "    'F':['D','E','H'],\n",
    "    'G':['E','H'],\n",
    "    'H':['G','F'],\n",
    "}\n",
    "\n",
    "dfs(adj_list)"
   ]
  },
  {
   "cell_type": "code",
   "execution_count": null,
   "id": "b76ccc5e-e404-40ed-bb7a-fda824630b59",
   "metadata": {},
   "outputs": [],
   "source": []
  }
 ],
 "metadata": {
  "kernelspec": {
   "display_name": "Python 3 (ipykernel)",
   "language": "python",
   "name": "python3"
  },
  "language_info": {
   "codemirror_mode": {
    "name": "ipython",
    "version": 3
   },
   "file_extension": ".py",
   "mimetype": "text/x-python",
   "name": "python",
   "nbconvert_exporter": "python",
   "pygments_lexer": "ipython3",
   "version": "3.11.2"
  }
 },
 "nbformat": 4,
 "nbformat_minor": 5
}
